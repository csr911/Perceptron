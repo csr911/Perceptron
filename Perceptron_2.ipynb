{
  "nbformat": 4,
  "nbformat_minor": 0,
  "metadata": {
    "colab": {
      "provenance": [],
      "authorship_tag": "ABX9TyPMK4TMXgq10DeRPHGFEv7x",
      "include_colab_link": true
    },
    "kernelspec": {
      "name": "python3",
      "display_name": "Python 3"
    },
    "language_info": {
      "name": "python"
    }
  },
  "cells": [
    {
      "cell_type": "markdown",
      "metadata": {
        "id": "view-in-github",
        "colab_type": "text"
      },
      "source": [
        "<a href=\"https://colab.research.google.com/github/csr911/Perceptron/blob/main/Perceptron_2.ipynb\" target=\"_parent\"><img src=\"https://colab.research.google.com/assets/colab-badge.svg\" alt=\"Open In Colab\"/></a>"
      ]
    },
    {
      "cell_type": "markdown",
      "source": [
        "Single Layer perceptron for classification problems"
      ],
      "metadata": {
        "id": "ORyvxWzPdKgM"
      }
    },
    {
      "cell_type": "markdown",
      "source": [
        "This code defines a perceptron function that takes as input the training data, learning rate, and number of iterations. It initializes the weights and bias to zero, and then trains the model by updating the weights and bias based on the error between the predicted and actual labels. The function returns the trained weights and bias.\n",
        "\n",
        "The code then creates a random binary classification dataset and trains the perceptron on it using the perceptron function. Finally, it makes predictions on a new set of data and prints the predicted labels to the console."
      ],
      "metadata": {
        "id": "oD3Fv8tvb6yJ"
      }
    },
    {
      "cell_type": "code",
      "execution_count": null,
      "metadata": {
        "colab": {
          "base_uri": "https://localhost:8080/"
        },
        "id": "OGpOXwoUQRHO",
        "outputId": "7e4b536f-d3d3-43bb-cdf3-de35f144ddf0"
      },
      "outputs": [
        {
          "output_type": "stream",
          "name": "stdout",
          "text": [
            "[1 0]\n"
          ]
        }
      ],
      "source": [
        "import numpy as np\n",
        "\n",
        "# Define the perceptron function\n",
        "def perceptron(X, y, learning_rate=0.1, n_iterations=100):\n",
        "    # Initialize the weights and bias\n",
        "    weights = np.zeros(X.shape[1])\n",
        "    bias = 0\n",
        "\n",
        "    # Train the model\n",
        "    for i in range(n_iterations):\n",
        "        for j in range(X.shape[0]):\n",
        "            # Compute the output of the perceptron\n",
        "            output = np.dot(X[j], weights) + bias\n",
        "            prediction = 1 if output >= 0 else 0\n",
        "\n",
        "            # Update the weights and bias based on the prediction and the actual label\n",
        "            error = y[j] - prediction\n",
        "            weights += learning_rate * error * X[j]\n",
        "            bias += learning_rate * error\n",
        "\n",
        "    return weights, bias\n",
        "\n",
        "# Create a random binary classification dataset\n",
        "X = np.array([[1, 1], [-1, -1], [2, 2], [-2, -2]])\n",
        "y = np.array([1, 0, 1, 0])\n",
        "\n",
        "# Train the perceptron on the dataset\n",
        "weights, bias = perceptron(X, y)\n",
        "\n",
        "# Make predictions on a new set of data\n",
        "new_data = np.array([[1, 1], [-1, -1]])\n",
        "output = np.dot(new_data, weights) + bias\n",
        "predictions = np.where(output >= 0, 1, 0)\n",
        "\n",
        "print(predictions)\n"
      ]
    }
  ]
}